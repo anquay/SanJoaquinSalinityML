{
 "cells": [
  {
   "cell_type": "code",
   "execution_count": 24,
   "metadata": {
    "collapsed": true
   },
   "outputs": [],
   "source": [
    "import pandas as pd\n",
    "import numpy as np\n",
    "\n",
    "from sklearn import linear_model\n",
    "from sklearn.metrics import r2_score\n",
    "from sklearn.metrics import mean_squared_error\n",
    "from sklearn.metrics import mean_absolute_error\n",
    "from sklearn.ensemble import RandomForestRegressor\n",
    "from sklearn.model_selection import train_test_split\n",
    "from itertools import product\n",
    "\n",
    "import matplotlib.pyplot as plt"
   ]
  },
  {
   "cell_type": "markdown",
   "metadata": {},
   "source": [
    "### Data"
   ]
  },
  {
   "cell_type": "code",
   "execution_count": 20,
   "metadata": {},
   "outputs": [
    {
     "data": {
      "text/html": [
       "<div>\n",
       "<style>\n",
       "    .dataframe thead tr:only-child th {\n",
       "        text-align: right;\n",
       "    }\n",
       "\n",
       "    .dataframe thead th {\n",
       "        text-align: left;\n",
       "    }\n",
       "\n",
       "    .dataframe tbody tr th {\n",
       "        vertical-align: top;\n",
       "    }\n",
       "</style>\n",
       "<table border=\"1\" class=\"dataframe\">\n",
       "  <thead>\n",
       "    <tr style=\"text-align: right;\">\n",
       "      <th></th>\n",
       "      <th>salinity</th>\n",
       "      <th>Field_ID</th>\n",
       "      <th>max_CRSI</th>\n",
       "      <th>elevation</th>\n",
       "      <th>aspect</th>\n",
       "      <th>slope</th>\n",
       "      <th>margins</th>\n",
       "      <th>average_temperature</th>\n",
       "      <th>total_precipitation</th>\n",
       "    </tr>\n",
       "  </thead>\n",
       "  <tbody>\n",
       "    <tr>\n",
       "      <th>0</th>\n",
       "      <td>0.010</td>\n",
       "      <td>1.0</td>\n",
       "      <td>0.774290</td>\n",
       "      <td>66</td>\n",
       "      <td>328</td>\n",
       "      <td>1</td>\n",
       "      <td>1.0</td>\n",
       "      <td>285.08047</td>\n",
       "      <td>119.0</td>\n",
       "    </tr>\n",
       "    <tr>\n",
       "      <th>2</th>\n",
       "      <td>3.827</td>\n",
       "      <td>1.0</td>\n",
       "      <td>0.781937</td>\n",
       "      <td>66</td>\n",
       "      <td>152</td>\n",
       "      <td>0</td>\n",
       "      <td>1.0</td>\n",
       "      <td>285.08047</td>\n",
       "      <td>119.0</td>\n",
       "    </tr>\n",
       "    <tr>\n",
       "      <th>3</th>\n",
       "      <td>3.080</td>\n",
       "      <td>1.0</td>\n",
       "      <td>0.775323</td>\n",
       "      <td>66</td>\n",
       "      <td>151</td>\n",
       "      <td>0</td>\n",
       "      <td>1.0</td>\n",
       "      <td>285.08047</td>\n",
       "      <td>119.0</td>\n",
       "    </tr>\n",
       "    <tr>\n",
       "      <th>4</th>\n",
       "      <td>1.092</td>\n",
       "      <td>1.0</td>\n",
       "      <td>0.766537</td>\n",
       "      <td>66</td>\n",
       "      <td>149</td>\n",
       "      <td>0</td>\n",
       "      <td>1.0</td>\n",
       "      <td>285.08047</td>\n",
       "      <td>119.0</td>\n",
       "    </tr>\n",
       "    <tr>\n",
       "      <th>5</th>\n",
       "      <td>0.146</td>\n",
       "      <td>1.0</td>\n",
       "      <td>0.748702</td>\n",
       "      <td>66</td>\n",
       "      <td>148</td>\n",
       "      <td>0</td>\n",
       "      <td>1.0</td>\n",
       "      <td>285.08047</td>\n",
       "      <td>119.0</td>\n",
       "    </tr>\n",
       "  </tbody>\n",
       "</table>\n",
       "</div>"
      ],
      "text/plain": [
       "   salinity  Field_ID  max_CRSI  elevation  aspect  slope  margins  \\\n",
       "0     0.010       1.0  0.774290         66     328      1      1.0   \n",
       "2     3.827       1.0  0.781937         66     152      0      1.0   \n",
       "3     3.080       1.0  0.775323         66     151      0      1.0   \n",
       "4     1.092       1.0  0.766537         66     149      0      1.0   \n",
       "5     0.146       1.0  0.748702         66     148      0      1.0   \n",
       "\n",
       "   average_temperature  total_precipitation  \n",
       "0            285.08047                119.0  \n",
       "2            285.08047                119.0  \n",
       "3            285.08047                119.0  \n",
       "4            285.08047                119.0  \n",
       "5            285.08047                119.0  "
      ]
     },
     "execution_count": 20,
     "metadata": {},
     "output_type": "execute_result"
    }
   ],
   "source": [
    "# r'Users/amandaquay/Box\\ Sync/90904_FinalProject/SanJoaquinSalinityML/\n",
    "pathway = 'data_average_after.csv'\n",
    "df = pd.read_csv(pathway, index_col=0).dropna()\n",
    "df = df.sort_values(by=['Field_ID']).sort_values(by=['Field_ID'])\n",
    "# extract independent variables of use\n",
    "df_small = df[['salinity', 'Field_ID', 'max_CRSI', 'elevation', 'aspect', \n",
    "               'slope', 'margins', 'average_temperature', 'total_precipitation']]\n",
    "df_small.head()"
   ]
  },
  {
   "cell_type": "markdown",
   "metadata": {},
   "source": [
    "### Functions\n",
    "###### These functions were mainly pulled from Paul Welle's work"
   ]
  },
  {
   "cell_type": "code",
   "execution_count": 13,
   "metadata": {
    "collapsed": true
   },
   "outputs": [],
   "source": [
    "def normalize_X(X_train, X_test):\n",
    "    x_max = np.max(X_train, axis=0, keepdims=True)\n",
    "    x_min = np.min(X_train, axis=0, keepdims=True)\n",
    "    range_x = x_max-x_min\n",
    "    range_x[range_x==0] = 1\n",
    "    x_min[range_x==0] = 0\n",
    "    X_train = (X_train - x_min) / range_x\n",
    "    X_test = (X_test - x_min) / range_x\n",
    "    return X_train, X_test"
   ]
  },
  {
   "cell_type": "code",
   "execution_count": 14,
   "metadata": {
    "collapsed": true
   },
   "outputs": [],
   "source": [
    "def plot_actual_vs_predicted(actual, predicted, ylim=(0,40), xlim=(0,40)):\n",
    "    plt.scatter(actual, predicted, s=5)\n",
    "    plt.xlim(xlim)\n",
    "    plt.ylim(ylim)\n",
    "    plt.plot((0,40),(0,40), linewidth=2, color='black')\n",
    "    plt.xlabel('Actual Salinity (dS/m)')\n",
    "    plt.ylabel('Predicted Salinity (dS/m)')\n",
    "    plt.show()"
   ]
  },
  {
   "cell_type": "code",
   "execution_count": 15,
   "metadata": {
    "collapsed": true
   },
   "outputs": [],
   "source": [
    "def train_test_split_lofo(df, drop_columns, test_field=None):\n",
    "    fields = df['Field_ID'].unique()\n",
    "    if test_field is None: test_field = np.array([np.random.choice(fields)])\n",
    "    else: test_field=np.array([test_field])\n",
    "    train_fields = np.setdiff1d(fields, test_field)\n",
    "\n",
    "    test_field_indices = np.where(df['Field_ID'].isin(test_field))[0]\n",
    "    train_field_indices = np.where(df['Field_ID'].isin(train_fields))[0]\n",
    "\n",
    "    y = df['salinity'].values.reshape(-1,1)\n",
    "    X = df.drop(df.columns[drop_columns], axis=1).values\n",
    "\n",
    "    y_train = y[train_field_indices].ravel()\n",
    "    y_test = y[test_field_indices].ravel()\n",
    "    X_train = X[train_field_indices]\n",
    "    X_test = X[test_field_indices]\n",
    "\n",
    "    return X_train, y_train, X_test, y_test"
   ]
  },
  {
   "cell_type": "code",
   "execution_count": 16,
   "metadata": {
    "collapsed": true
   },
   "outputs": [],
   "source": [
    "def cross_validate_lofo(df, drop_columns, train_model_func, reg=0.0, keras=True): \n",
    "    y_hat = np.array([])\n",
    "    fields = df['Field_ID'].unique()\n",
    "    \n",
    "    for field in fields:\n",
    "        X_train, y_train, X_test, y_test = train_test_split_lofo(df, drop_columns, field)\n",
    "        X_train, X_test = normalize_X(X_train, X_test)\n",
    "        model = train_model_func(X_train, y_train, X_test, y_test, reg=reg, verbose=0)\n",
    "        y_hat = np.append(y_hat, model.predict(X_test))\n",
    "    \n",
    "    y = df['salinity']\n",
    "    mse = mean_squared_error(y, y_hat)\n",
    "    return y_hat, mse"
   ]
  },
  {
   "cell_type": "code",
   "execution_count": 17,
   "metadata": {
    "collapsed": true
   },
   "outputs": [],
   "source": [
    "def cross_validate_lofo_sklearn(df, drop_columns, model, normalize=False, **kwargs):\n",
    "    y_hat = np.array([])\n",
    "    fields = df['Field_ID'].unique()\n",
    "    \n",
    "    for field in fields:\n",
    "        X_train, y_train, X_test, y_test = train_test_split_lofo(df, drop_columns, field)\n",
    "        if(normalize): X_train, X_test = normalize_X(X_train, X_test)\n",
    "        rf = model(**kwargs)\n",
    "        rf.fit(X_train, y_train)\n",
    "        y_hat = np.append(y_hat, rf.predict(X_test))\n",
    "    \n",
    "    y = df['salinity']\n",
    "    mse = mean_squared_error(y, y_hat)\n",
    "    return y_hat, mse"
   ]
  },
  {
   "cell_type": "markdown",
   "metadata": {},
   "source": [
    "### Random Forest\n",
    "#### 'Grid Search'"
   ]
  },
  {
   "cell_type": "code",
   "execution_count": 18,
   "metadata": {
    "collapsed": true
   },
   "outputs": [],
   "source": [
    "# Define X and y\n",
    "y = df_small['salinity'].values\n",
    "drop_columns = [0, 1]\n",
    "X = df_small.drop(df_small.columns[drop_columns], axis=1).values"
   ]
  },
  {
   "cell_type": "code",
   "execution_count": 26,
   "metadata": {},
   "outputs": [],
   "source": [
    "# model\n",
    "model = RandomForestRegressor\n",
    "parameter_grid = {'n_estimators': [100], 'min_samples_leaf': [1, 2, 10, 20, 50, 100, 200, 300, 400, 500],\n",
    "                 'max_features': [2, 5, 7]}\n",
    "kwarg_list = [dict(zip(parameter_grid, v)) for v in product(*parameter_grid.values())]"
   ]
  },
  {
   "cell_type": "code",
   "execution_count": 27,
   "metadata": {},
   "outputs": [
    {
     "data": {
      "text/plain": [
       "[{'max_features': 2, 'min_samples_leaf': 1, 'n_estimators': 100},\n",
       " {'max_features': 5, 'min_samples_leaf': 1, 'n_estimators': 100},\n",
       " {'max_features': 7, 'min_samples_leaf': 1, 'n_estimators': 100},\n",
       " {'max_features': 2, 'min_samples_leaf': 2, 'n_estimators': 100},\n",
       " {'max_features': 5, 'min_samples_leaf': 2, 'n_estimators': 100},\n",
       " {'max_features': 7, 'min_samples_leaf': 2, 'n_estimators': 100},\n",
       " {'max_features': 2, 'min_samples_leaf': 10, 'n_estimators': 100},\n",
       " {'max_features': 5, 'min_samples_leaf': 10, 'n_estimators': 100},\n",
       " {'max_features': 7, 'min_samples_leaf': 10, 'n_estimators': 100},\n",
       " {'max_features': 2, 'min_samples_leaf': 20, 'n_estimators': 100},\n",
       " {'max_features': 5, 'min_samples_leaf': 20, 'n_estimators': 100},\n",
       " {'max_features': 7, 'min_samples_leaf': 20, 'n_estimators': 100},\n",
       " {'max_features': 2, 'min_samples_leaf': 50, 'n_estimators': 100},\n",
       " {'max_features': 5, 'min_samples_leaf': 50, 'n_estimators': 100},\n",
       " {'max_features': 7, 'min_samples_leaf': 50, 'n_estimators': 100},\n",
       " {'max_features': 2, 'min_samples_leaf': 100, 'n_estimators': 100},\n",
       " {'max_features': 5, 'min_samples_leaf': 100, 'n_estimators': 100},\n",
       " {'max_features': 7, 'min_samples_leaf': 100, 'n_estimators': 100},\n",
       " {'max_features': 2, 'min_samples_leaf': 200, 'n_estimators': 100},\n",
       " {'max_features': 5, 'min_samples_leaf': 200, 'n_estimators': 100},\n",
       " {'max_features': 7, 'min_samples_leaf': 200, 'n_estimators': 100},\n",
       " {'max_features': 2, 'min_samples_leaf': 300, 'n_estimators': 100},\n",
       " {'max_features': 5, 'min_samples_leaf': 300, 'n_estimators': 100},\n",
       " {'max_features': 7, 'min_samples_leaf': 300, 'n_estimators': 100},\n",
       " {'max_features': 2, 'min_samples_leaf': 400, 'n_estimators': 100},\n",
       " {'max_features': 5, 'min_samples_leaf': 400, 'n_estimators': 100},\n",
       " {'max_features': 7, 'min_samples_leaf': 400, 'n_estimators': 100},\n",
       " {'max_features': 2, 'min_samples_leaf': 500, 'n_estimators': 100},\n",
       " {'max_features': 5, 'min_samples_leaf': 500, 'n_estimators': 100},\n",
       " {'max_features': 7, 'min_samples_leaf': 500, 'n_estimators': 100}]"
      ]
     },
     "execution_count": 27,
     "metadata": {},
     "output_type": "execute_result"
    }
   ],
   "source": [
    "kwarg_list"
   ]
  },
  {
   "cell_type": "code",
   "execution_count": 28,
   "metadata": {},
   "outputs": [
    {
     "name": "stdout",
     "output_type": "stream",
     "text": [
      "Working on:\t{'n_estimators': 100, 'min_samples_leaf': 1, 'max_features': 2}\n",
      "\t\tMSE: 29.42293423909455\n",
      "Working on:\t{'n_estimators': 100, 'min_samples_leaf': 1, 'max_features': 5}\n",
      "\t\tMSE: 27.02047200843944\n",
      "Working on:\t{'n_estimators': 100, 'min_samples_leaf': 1, 'max_features': 7}\n",
      "\t\tMSE: 23.62590235933564\n",
      "Working on:\t{'n_estimators': 100, 'min_samples_leaf': 2, 'max_features': 2}\n",
      "\t\tMSE: 29.075711353690014\n",
      "Working on:\t{'n_estimators': 100, 'min_samples_leaf': 2, 'max_features': 5}\n",
      "\t\tMSE: 27.844239071129923\n",
      "Working on:\t{'n_estimators': 100, 'min_samples_leaf': 2, 'max_features': 7}\n",
      "\t\tMSE: 24.31982303756936\n",
      "Working on:\t{'n_estimators': 100, 'min_samples_leaf': 10, 'max_features': 2}\n",
      "\t\tMSE: 28.518446864992704\n",
      "Working on:\t{'n_estimators': 100, 'min_samples_leaf': 10, 'max_features': 5}\n",
      "\t\tMSE: 25.7803496359816\n",
      "Working on:\t{'n_estimators': 100, 'min_samples_leaf': 10, 'max_features': 7}\n",
      "\t\tMSE: 26.0416354410074\n",
      "Working on:\t{'n_estimators': 100, 'min_samples_leaf': 20, 'max_features': 2}\n",
      "\t\tMSE: 28.992108191057298\n",
      "Working on:\t{'n_estimators': 100, 'min_samples_leaf': 20, 'max_features': 5}\n",
      "\t\tMSE: 25.171756086697886\n",
      "Working on:\t{'n_estimators': 100, 'min_samples_leaf': 20, 'max_features': 7}\n",
      "\t\tMSE: 26.498083100709437\n",
      "Working on:\t{'n_estimators': 100, 'min_samples_leaf': 50, 'max_features': 2}\n",
      "\t\tMSE: 28.38306876417626\n",
      "Working on:\t{'n_estimators': 100, 'min_samples_leaf': 50, 'max_features': 5}\n",
      "\t\tMSE: 25.33961644797105\n",
      "Working on:\t{'n_estimators': 100, 'min_samples_leaf': 50, 'max_features': 7}\n",
      "\t\tMSE: 26.529263995813196\n",
      "Working on:\t{'n_estimators': 100, 'min_samples_leaf': 100, 'max_features': 2}\n",
      "\t\tMSE: 30.153404101500175\n",
      "Working on:\t{'n_estimators': 100, 'min_samples_leaf': 100, 'max_features': 5}\n",
      "\t\tMSE: 27.364057521575972\n",
      "Working on:\t{'n_estimators': 100, 'min_samples_leaf': 100, 'max_features': 7}\n",
      "\t\tMSE: 28.831025671207897\n",
      "Working on:\t{'n_estimators': 100, 'min_samples_leaf': 200, 'max_features': 2}\n",
      "\t\tMSE: 31.359515834647567\n",
      "Working on:\t{'n_estimators': 100, 'min_samples_leaf': 200, 'max_features': 5}\n",
      "\t\tMSE: 30.265182840365583\n",
      "Working on:\t{'n_estimators': 100, 'min_samples_leaf': 200, 'max_features': 7}\n",
      "\t\tMSE: 33.35782056711439\n",
      "Working on:\t{'n_estimators': 100, 'min_samples_leaf': 300, 'max_features': 2}\n",
      "\t\tMSE: 35.97473840647125\n",
      "Working on:\t{'n_estimators': 100, 'min_samples_leaf': 300, 'max_features': 5}\n",
      "\t\tMSE: 32.77259487775807\n",
      "Working on:\t{'n_estimators': 100, 'min_samples_leaf': 300, 'max_features': 7}\n",
      "\t\tMSE: 39.504267212684574\n",
      "Working on:\t{'n_estimators': 100, 'min_samples_leaf': 400, 'max_features': 2}\n",
      "\t\tMSE: 36.84509719857032\n",
      "Working on:\t{'n_estimators': 100, 'min_samples_leaf': 400, 'max_features': 5}\n",
      "\t\tMSE: 36.502699069349006\n",
      "Working on:\t{'n_estimators': 100, 'min_samples_leaf': 400, 'max_features': 7}\n",
      "\t\tMSE: 38.342524710594404\n",
      "Working on:\t{'n_estimators': 100, 'min_samples_leaf': 500, 'max_features': 2}\n",
      "\t\tMSE: 38.69192047027358\n",
      "Working on:\t{'n_estimators': 100, 'min_samples_leaf': 500, 'max_features': 5}\n",
      "\t\tMSE: 37.52926122976461\n",
      "Working on:\t{'n_estimators': 100, 'min_samples_leaf': 500, 'max_features': 7}\n",
      "\t\tMSE: 38.07202024048764\n",
      "CPU times: user 5min 46s, sys: 5.78 s, total: 5min 52s\n",
      "Wall time: 6min 3s\n"
     ]
    }
   ],
   "source": [
    "%%time\n",
    "mse_list = []\n",
    "predicted_list = []\n",
    "\n",
    "for index, kwargs in enumerate(kwarg_list):\n",
    "    print(\"Working on:\\t\" + str(kwargs))\n",
    "    y_hat, mse = cross_validate_lofo_sklearn(df_small, drop_columns, model, **kwargs) \n",
    "    predicted_list.append(y_hat)\n",
    "    mse_list.append(mse)\n",
    "    print(\"\\t\\tMSE: \" + str(mse))"
   ]
  },
  {
   "cell_type": "code",
   "execution_count": 29,
   "metadata": {
    "collapsed": true
   },
   "outputs": [],
   "source": [
    "best_run_index = np.argmin(mse_list)\n",
    "params = kwarg_list[best_run_index]\n",
    "y_hat = predicted_list[best_run_index]\n",
    "mse = mse_list[best_run_index]"
   ]
  },
  {
   "cell_type": "code",
   "execution_count": 30,
   "metadata": {},
   "outputs": [
    {
     "name": "stdout",
     "output_type": "stream",
     "text": [
      "best run index: 2\n",
      "MAE: 3.33\n",
      "MSE: 24.04\n",
      "R_squared: 0.36\n"
     ]
    }
   ],
   "source": [
    "print('best run index:', best_run_index)\n",
    "print('MAE: %.2f' % mean_absolute_error(y, y_hat))\n",
    "print('MSE: %.2f' % mean_squared_error(y, y_hat))\n",
    "print('R_squared: %.2f' % r2_score(y, y_hat))"
   ]
  },
  {
   "cell_type": "code",
   "execution_count": 31,
   "metadata": {},
   "outputs": [
    {
     "data": {
      "text/plain": [
       "{'max_features': 7, 'min_samples_leaf': 1, 'n_estimators': 100}"
      ]
     },
     "execution_count": 31,
     "metadata": {},
     "output_type": "execute_result"
    }
   ],
   "source": [
    "kwarg_list[best_run_index]"
   ]
  },
  {
   "cell_type": "code",
   "execution_count": null,
   "metadata": {
    "collapsed": true
   },
   "outputs": [],
   "source": []
  }
 ],
 "metadata": {
  "kernelspec": {
   "display_name": "Python 3",
   "language": "python",
   "name": "python3"
  },
  "language_info": {
   "codemirror_mode": {
    "name": "ipython",
    "version": 3
   },
   "file_extension": ".py",
   "mimetype": "text/x-python",
   "name": "python",
   "nbconvert_exporter": "python",
   "pygments_lexer": "ipython3",
   "version": "3.6.1"
  }
 },
 "nbformat": 4,
 "nbformat_minor": 2
}
